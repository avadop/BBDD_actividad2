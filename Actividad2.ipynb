{
 "cells": [
  {
   "cell_type": "markdown",
   "metadata": {},
   "source": [
    "   # ACTIVIDAD 2  - BASE DE DATOS (02MASW)\n",
    "\n",
    "&nbsp;\n",
    "\n",
    "&nbsp;\n",
    "\n",
    "&nbsp;\n",
    "\n",
    "&nbsp;\n",
    "\n",
    "&nbsp;\n",
    "![image](https://upload.wikimedia.org/wikipedia/commons/f/f8/Logo_VIU.png)\n",
    "&nbsp;\n",
    "\n",
    "&nbsp;\n",
    "\n",
    "&nbsp;\n",
    "\n",
    "&nbsp;\n",
    "\n",
    "&nbsp;\n",
    "\n",
    "&nbsp;\n",
    "\n",
    "\n",
    "Andrea del Vado Puell\n",
    "\n",
    "Pablo Vázquez Fernández\n",
    "\n",
    "Joaquín Ángel Tejero Cañero\n",
    "\n",
    "&nbsp;\n",
    "\n",
    "&nbsp;\n",
    "\n",
    "&nbsp;\n"
   ]
  },
  {
   "cell_type": "markdown",
   "metadata": {},
   "source": [
    "## Índice\n",
    "1. [Introducción](##Introducción)\n",
    "2. [Necesidades y requisitos del usuario](##Necesidades-y-requisitos-del-usuario)\n",
    "3. [Diseño de la base de datos](#Diseño-de-la-base-de-datos)\n",
    "     3.1. [Diseño conceptual](#Diseño-conceptual)\n",
    "     3.2. [Diseño lógico](#Diseño-logico)\n",
    "     3.2. [Diseño físico](#Diseño-fisico)\n",
    "4. [Despliegue de la base de datos](#Despliegue-de-la-base-de-datos)\n",
    "5. [Consultas a la base de datos](#Consultas-a-la-base-de-datos)\n",
    "6. [Conclusión](#Conclusion)\n"
   ]
  },
  {
   "cell_type": "markdown",
   "metadata": {},
   "source": [
    "## Introducción\n",
    "Durante la presente actividad para la asignatura de  *Bases de Datos Web* vamos a profundizar en el tema del diseño de una base de datos para nuestra aplicaicón. \n",
    "\n",
    "Para realizar esto, será necesario entender correctamente los requisitos y/o funcionalidades que se desean llevar a cabo para su correcto desarrollo. Deberemos aprender a identificar y plasmar diferentes tipos de diseños. Por una lado, tendremos un diseño conceptual donde se idenfican aquellas entidades, relaciones y atributos que van a intervenir en la aplicación. Seguido, estará un diseño lógico a modo de paso intermedio y del que se parte de los resultados obtenidos en el diseño conceptual anterior y cuyas salidas servirán para el siguiente de los diseños. El último será un diseño físico o relacional y que nos va a servir para la creación real de nuestra base de datos.\n",
    "\n",
    "Una vez que tenemos todos los diseños modelados, podremos pasar al punto del despliegue en un entorno lo más real posible e iremos comprobando si, efectivamente, lo desarrollado hasta el momento funciona de manera correcta.\n",
    "\n",
    "Para terminar, una vez que dispongamos de la base de datos creada, se puede proceder con la inserción de datos y la realización de consultas que corroborarán que todo lo realizado funciona de forma exitosa.\n",
    "\n",
    "**Descripcion de la empresa (cliente)**: Se trata de una clínica veterinaria dedicada al cuidado de los animales domésticos y ofrece servicios relacionados como consulta general, vacunación, pruebas diagnósticas, cirugía, peluquería canina o atención a domicilio. Además, lleva la agenda de las citas de las diferentes mascotas, así como los datos de los clientes. A su vez, también tiene la posibilidad de venta de diferentes tipos de comida y de accesorios.   \n"
   ]
  },
  {
   "cell_type": "markdown",
   "metadata": {},
   "source": [
    "\n",
    "## Necesidades y requisitos del usuario\n",
    " [*por añadir los requisitos*]"
   ]
  },
  {
   "cell_type": "markdown",
   "metadata": {},
   "source": [
    "\n",
    "\n",
    "## Diseño de la base de datos\n",
    "### Diseño conceptual\n",
    "Este es el primero de los diseños y está fundamentado en los requisitos de usuario. El resultado será un esquema entidad-relación que describirá de forma gráfica el cómo será la base de datos en cuestión.\n",
    "\n",
    "Para realizarlo, hemos seguido los siguientes pasos:\n",
    "\n",
    "#### 1 Identificar las entidades\n",
    "Las entidades que hemos identificado tras repasar los requisitos descritos anteriormente son las siguientes:\n",
    " - **USUARIO:** Puede ser **CLINICA** o **CLIENTE**. El usuario navegará por la aplicación, dependiendo del tipo que sea tendrá unas restricciones y valores asociados u otros.\n",
    " - **CITA:** La cita es la entidad que recoge la información de la visita a la clínica, llevando asociada la mascota que va a ir y su dueño (el cliente). Ya sea cliente o clínica, podrán pedir citas.\n",
    " - **MASCOTA:** Las mascotas que tienen los diferentes clientes.\n",
    " - **PRODUCTO:** Productos que tiene la clínica, desde productos médicos hasta accesorios o comida. Los clientes sólo podrán acceder a estos últimos. \n",
    " - **ALERTA:** Un producto puede emitir una alerta cuando se encuentre con pocas cantidades disponibles.\n",
    " - **RECORDATORIO:** La clinica puede programar recordatorios asociados a las mascotas para recordar a sus dueños de futuras visitas.\n",
    " \n",
    "#### 2.  Identificar las relaciones \n",
    "Las relaciones que hemos determinado que existen entre las diferentes entidadades son: \n",
    " - **tiene**: Relacion entre CLIENTE y MASCOTA. Un cliente tiene una o varias mascotas y una mascota solo puede ser de un único cliente.\n",
    " - **gestiona**: Relación entre USUARIO y CITA. Un usuario gestiona varias o ninguna cita, una cita es gestionada por un único usuario.\n",
    " - **programa**: Relación entre CLINICA y RECORDATORIO. La clinica programa varios o ningún recordatorio. Un recordatorio es programado por una única clínica.\n",
    " - **emite**: Relación entre PRODUCTO y ALERTA. Un producto emite una única alerta. Una alerta puede ser emitida por varios productos.\n",
    " - **compra**: Relación entre CLIENTE y PRODUCTO. Un cliente compra varios o ningun producto. Un producto puede ser comprado por varios o ningún cliente.\n",
    " \n",
    "#### 3. Idenficiar los atributos\n",
    "A continuación quedan listados los atributos para cada entidad.\n",
    " - **CLINICA**: id_clinica. \n",
    " - **CLIENTE**: DNI, correo_electronico, direccion, nombre, apellidos, telefono, contrasenya. \n",
    " - **CITA**: id_cita, día, fecha, modalidad_cita (domicilio, online o presencial), tipo (consulta general, vacunación, peluquería o cirugía).\n",
    " - **MASCOTA**: num_chip, nombre, edad, sexo, especie, vacunas, informes_de_mascota (documentos), historial_clinico.\n",
    " - **PRODUCTO**: id_producto, nombre, imagen, marca, descripcion, ficha_tecnica, precio, cantidad_disponible, tipo_de_producto. \n",
    " - **ALERTA**: id_alerta, mensaje, cantidad_disponible.\n",
    " - **RECORDATORIO**: fecha_inicio, periodicidad, motivo_recordatorio, metodo_envio, id_recordatorio. \n",
    "\n",
    "#### 4. Determinar los dominios de los atributos\n",
    "Hemos identificado los siguientes dominios de atributos. \n",
    "\n",
    "Por un lado, el tipo de cita que puede ser de consulta general, de vacunación, de peluquería, de analítica o de cirugía.\n",
    "\n",
    " - **tipo_de_cita**: ['Consulta_general, 'Vacunacion', 'Peluqueria', 'Cirugia', 'Analitica']\n",
    "\n",
    "Relacionado con las citas, tenemos también la modalidad de la misma pudiendo ser presencial, online o a domicilio. \n",
    "\n",
    " - **modalidad_de_cita:**['Presencial, 'A:domicilio', 'Online']\n",
    "\n",
    " A continuación, relacionado con los recordatorios, tenemos el método de envío que puede ser de dos tipos o bien mediante un SMS o por correo electronico. \n",
    "\n",
    " - **metodo_envio:**['SMS', correo_electronico]\n",
    "\n",
    "Finalmente, en cuando a los tipos de productos, tendríamos accesorios, comida, medicacmentos, vacunas y productos de peluquería. \n",
    "\n",
    " - **tipo_producto:**['Accesorios', 'Comida', 'Medicamento', 'Vacuna', 'Productos_de_peluqueria']\n",
    "\n",
    "#### 5.  Determinar los identificadores\n",
    "Una vez identificadas las entidades, tendremos que darle un identificador único asociado a ellas:\n",
    "\n",
    " - **CLINICA**: id_clnica \n",
    " - **CLIENTE**: dni\n",
    " - **CITA**: id_recordatorio\n",
    " - **MASCOTA**: num_chip\n",
    " - **PRODUCTO**: id_producto\n",
    " - **ALERTA**: id_alerta\n",
    " - **RECORDATORIO**: id_recordatorio\n",
    "\n",
    "#### 6. Esquema conceptual (diagrama entidad-relación)\n",
    "\n",
    "### Diseño lógico\n",
    "Este diseño es una etapa que está a medio camino entre el diseño conceptual y el diseño físico como tal. Como entradas, tomará los resultados del modelo anterior y, a su vez, sus salidas serán tomada en el último de los diseños.\n",
    "\n",
    "Para realizarlo, hemos seguido los siguientes pasos:\n",
    "\n",
    "#### 1. Transformar las entidades en tablas\n",
    " - **USUARIO**\n",
    " - **CLIENTE** (dni, nombre, apellidos, telefono, direccion, corre_electronico, contrasenya) CP(dni)\n",
    " - **CLINICA** (id_clinica) CP(id_clinica)\n",
    " - **CITA** (id_cita, fecha, modalidad_cita, tipo) CP(id_cita)\n",
    " - **MASCOTA** (num_chip, nombre, edad, sexo, especie, vacunas, informes_de_mascota, historial_clinico) CP(num_chip)\n",
    " - **PRODUCTO** (id_producto, nombre, imagen, marca, descripcion, ficha_tecnica, precio, cantidad_disponible, tipo_de_producto) CP(id_producto)\n",
    " - **ALERTA** (id_alerta, mensaje, cantidad_disponible) CP(id_alerta)\n",
    " - **RECORDATORIO** (id_recordatorio, fecha_inicio, perioricidad, motivo_recordatorio, metodo_envio) CP(id_recordatorio)\n",
    " \n",
    "#### 2. Añadir claves ajenas e integridad\n",
    "\n",
    " - **USUARIO**\n",
    " - **CLIENTE** (dni, nombre, apellidos, telefono, direccion, corre_electronico, contrasenya) CP(dni)\n",
    " - **CLINICA** (id_clinica) CP(id_clinica)\n",
    " - **CITA** (id_cita, fecha, modalidad_cita, tipo) CP(id_cita) Caje (CITA.dni es clave ajena de CLIENTE.dni) Reglas: ¿Acepta nulos? No. ¿Actualización? Propagar. ¿Borrado? Restringir.\n",
    " - **MASCOTA** (num_chip, nombre, edad, sexo, especie, vacunas, informes_de_mascota, historial_clinico) CP(num_chip) Caje (MASCOTA.dni es clave ajena de CLIENTE.DNI) Reglas: ¿Acepta nulos? No. ¿Actualización? Propagar. ¿Borrado? Restringir.\n",
    " - **PRODUCTO** (id_producto, nombre, imagen, marca, descripcion, ficha_tecnica, precio, cantidad_disponible, tipo_de_producto) CP(id_producto) \n",
    " - **ALERTA** (id_alerta, mensaje, cantidad_disponible) CP(id_alerta) Caje(ALERTA.id_producto es clave ajena de PRODUCTO-id_producto) Reglas: ¿Acepta nulos? No. ¿Actualización? Propagar. ¿Borrado? Restringir.\n",
    " - **RECORDATORIO** (id_recordatorio, fecha_inicio, perioricidad, motivo_recordatorio, metodo_envio) CP(id_recordatorio) Caje: (RECORDATORIO.id_cita es clave ajena de CITA.id_cita) Reglas: ¿Acepta nulos? No. ¿Actualización? Propagar. ¿Borrado? Restringir.\n",
    " \n",
    "#### 3. Transformar las relaciones en trablas y añadir integridad\n",
    " - **compra** (dni_cliente, id_producto) CP (dni_cliente, id_producto) Caje1: (compra.dni es clave ajena de CLIENTE.dni) Reglas: ¿Acepta nulos? No. ¿Actualización? Propagar. ¿Borrado? Restringir. Caje2: (compra.id_producto es clave ajena de PRODUCTO.id_producto) Reglas: ¿Acepta nulos? No. ¿Actualización? Propagar. ¿Borrado? Restringir.\n",
    "\n",
    "#### 4. Normalización y desnormalización\n",
    "Después de revisar lo realizado hasta el momnto, diseño conceptual y físico, hemos decidido no realizar este paso porque la complejidad de la base de datos no es excesiva.\n",
    "\n",
    "### Diseño físico\n",
    "Este tipo de diseño consiste en la generación física de la base de datos. Para realizar esto, hemos obtado por un sistema de gestión de *PostgreSql*.\n",
    "\n",
    "Para realizarlo, hemos seguido los siguientes pasos:\n"
   ]
  },
  {
   "cell_type": "markdown",
   "metadata": {},
   "source": [
    "## Despliegue de la base de datos"
   ]
  },
  {
   "cell_type": "markdown",
   "metadata": {},
   "source": [
    "## Consultas a la base de datos"
   ]
  },
  {
   "cell_type": "markdown",
   "metadata": {},
   "source": [
    "## Conclusión\n",
    "\n",
    "Esta actividad nos ha servido para mejorar a la hora de enfrentarnos a un diseño de una base de datos. Como tendremos que partir de un diseño más teórico o conceptual basado en los requisitos proporcionados por un cliente, e ir, poco a poco, analizándolo y transformarlo hasta llegar al diseño relacional final.\n",
    "\n",
    "Finalmente, después de lo explicado en esta tarea, es posible que alguno de los diseños planteados no sea del todo correcto o que, con un poco más de experiencia y, sobre todo, tiempo, pudiésemos llegar a una solución más satisfactoria. De todas maneras, estamos orgullosos del trabajo que hemos realizado. \n",
    "\n",
    " "
   ]
  },
  {
   "cell_type": "code",
   "execution_count": null,
   "metadata": {},
   "outputs": [],
   "source": []
  }
 ],
 "metadata": {
  "kernelspec": {
   "display_name": "Python 3 (ipykernel)",
   "language": "python",
   "name": "python3"
  },
  "language_info": {
   "codemirror_mode": {
    "name": "ipython",
    "version": 3
   },
   "file_extension": ".py",
   "mimetype": "text/x-python",
   "name": "python",
   "nbconvert_exporter": "python",
   "pygments_lexer": "ipython3",
   "version": "3.11.3"
  },
  "vscode": {
   "interpreter": {
    "hash": "8a13e0cb9b320cf6cdcad3ae5d9b3afe539c62bd547e164bc97153987ad49ad5"
   }
  }
 },
 "nbformat": 4,
 "nbformat_minor": 2
}
