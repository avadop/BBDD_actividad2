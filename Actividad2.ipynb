{
 "cells": [
  {
   "attachments": {},
   "cell_type": "markdown",
   "metadata": {},
   "source": [
    "# ACTIVIDAD 2 BASE DE DATOS\n",
    "\n",
    "&nbsp;\n",
    "\n",
    "&nbsp;\n",
    "\n",
    "&nbsp;\n",
    "\n",
    "&nbsp;\n",
    "\n",
    "&nbsp;\n",
    "![image](https://upload.wikimedia.org/wikipedia/commons/f/f8/Logo_VIU.png)\n",
    "&nbsp;\n",
    "\n",
    "&nbsp;\n",
    "\n",
    "&nbsp;\n",
    "\n",
    "&nbsp;\n",
    "\n",
    "&nbsp;\n",
    "\n",
    "&nbsp;\n",
    "\n",
    "\n",
    "Andrea del Vado Puell\n",
    "\n",
    "Pablo Vázquez Fernández\n",
    "\n",
    "Joaquín Ángel Tejero Cañero\n",
    "\n",
    "\n"
   ]
  },
  {
   "attachments": {},
   "cell_type": "markdown",
   "metadata": {},
   "source": [
    "## Índice\n",
    "1. [Introducción](#introducción)\n",
    "2. [Necesidades y requisitos del usuario](#necesidades-y-requisitos-del-usuario)\n",
    "3. [Diseño de la base de datos](#diseño-de-la-base-de-datos)"
   ]
  },
  {
   "cell_type": "markdown",
   "metadata": {},
   "source": []
  }
 ],
 "metadata": {
  "kernelspec": {
   "display_name": "Python 3",
   "language": "python",
   "name": "python3"
  },
  "language_info": {
   "name": "python",
   "version": "3.11.3 (tags/v3.11.3:f3909b8, Apr  4 2023, 23:49:59) [MSC v.1934 64 bit (AMD64)]"
  },
  "orig_nbformat": 4,
  "vscode": {
   "interpreter": {
    "hash": "8a13e0cb9b320cf6cdcad3ae5d9b3afe539c62bd547e164bc97153987ad49ad5"
   }
  }
 },
 "nbformat": 4,
 "nbformat_minor": 2
}
