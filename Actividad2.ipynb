{
 "cells": [
  {
   "cell_type": "markdown",
   "metadata": {},
   "source": [
    "   # ACTIVIDAD 2  - BASE DE DATOS (02MASW)\n",
    "\n",
    "&nbsp;\n",
    "\n",
    "&nbsp;\n",
    "\n",
    "&nbsp;\n",
    "\n",
    "&nbsp;\n",
    "\n",
    "&nbsp;\n",
    "![image](https://upload.wikimedia.org/wikipedia/commons/f/f8/Logo_VIU.png)\n",
    "&nbsp;\n",
    "\n",
    "&nbsp;\n",
    "\n",
    "&nbsp;\n",
    "\n",
    "&nbsp;\n",
    "\n",
    "&nbsp;\n",
    "\n",
    "&nbsp;\n",
    "\n",
    "\n",
    "Andrea del Vado Puell\n",
    "\n",
    "Pablo Vázquez Fernández\n",
    "\n",
    "Joaquín Ángel Tejero Cañero\n",
    "\n",
    "&nbsp;\n",
    "\n",
    "&nbsp;\n",
    "\n",
    "&nbsp;\n"
   ]
  },
  {
   "cell_type": "markdown",
   "metadata": {},
   "source": [
    "## Índice\n",
    "1. [Introducción](##Introducción)\n",
    "2. [Necesidades y requisitos del usuario](##Necesidades-y-requisitos-del-usuario)\n",
    "3. [Diseño de la base de datos](#Diseño-de-la-base-de-datos)\n"
   ]
  },
  {
   "cell_type": "markdown",
   "metadata": {},
   "source": []
  },
  {
   "cell_type": "markdown",
   "metadata": {},
   "source": [
    "## Introducción\n",
    "Durante la presente actividad para la asignatura de  *Bases de Datos Web* vamos a profundizar en el tema del diseño de una base de datos para nuestra aplicaicón. \n",
    "\n",
    "Para realizar esto, será necesario entender correctamente los requisitos y/o funcionalidades que se desean llevar a cabo para su correcto desarrollo. Deberemos aprender a identificar y plasmar diferentes tipos de diseños. Por una lado, tendremos un diseño conceptual donde se idenfican aquellas entidades, relaciones y atributos que van a intervenir en la aplicación. Seguido, estará un diseño lógico a modo de paso intermedio y del que se parte de los resultados obtenidos en el diseño conceptual anterior y cuyas salidas servirán para el siguiente de los diseños. El último será un diseño físico o relacional y que nos va a servir para la creación real de nuestra base de datos.\n",
    "\n",
    "Una vez que tenemos todos los diseños modelados, podremos pasar al punto del despliegue en un entorno lo más real posible e iremos comprobando si, efectivamente, lo desarrollado hasta el momento funciona de manera correcta.\n",
    "\n",
    "Para terminar, una vez que dispongamos de la base de datos creada, se puede proceder con la inserción de datos y la realización de consultas que corroborarán que todo lo realizado funciona de forma exitosa.\n",
    "\n",
    "**Descripcion de la empresa (cliente)**: Se trata de una clínica veterinaria dedicada al cuidado de los animales domésticos y ofrece servicios relacionados como consulta general, vacunación, pruebas diagnósticas, cirugía, peluquería canina o atención a domicilio. Además, lleva la agenda de las citas de las diferentes mascotas, así como los datos de los clientes. A su vez, también tiene la posibilidad de venta de diferentes tipos de comida y de accesorios.   \n",
    "\n",
    "## Necesidades y requisitos del usuario\n",
    " [*por añadir los requisitos*]\n",
    " \n",
    "## Diseño de la base de datos\n",
    "### Diseño conceptual\n",
    "#### 1. Identificar las entidades\n",
    " - **USUARIO**-> CLIENTE / CLINICA \n",
    " - **CITA** \n",
    " - **MASCOTA**\n",
    " - **TIENDA** \n",
    " - **PRODUCTO** \n",
    " - **INVENTARIO**\n",
    " - **ALERTA** \n",
    " - **RECORDATORIO**\n",
    " \n",
    "#### 2.  Identificar las relaciones \n",
    "\n",
    " - **AÑADE**: usuario con cita y mascota \n",
    " - **CONSULTA**: usuario con cita, mascota y tienda, usuario con usuario (datos personales) \n",
    " - **MODIFICA**: usuario con cita y mascota \n",
    " - **ELIMINA**: usuario con cita y mascota \n",
    " - **COMPRA**: usuario con producto \n",
    " - **REGISTRA**: clínica con cliente \n",
    " - **ASIGNA**: clínica con cita, mascota, cliente \n",
    " - **AÑADE**: clínica con producto/inventario \n",
    " - **CONSULTA**: clínica con producto/inventario \n",
    " - **MODIFICA**: clínica con producto/inventario \n",
    " - **ELIMINA**: clínica con producto/inventario \n",
    " - **RECIBE**: clínica con alerta \n",
    " - **PROGRAMA**: clínica con recordatorio \n",
    " \n",
    "#### 3. Idenficiar los atributos\n",
    " - **USUARIO – CLIENTE**: DNI, correo electrónico, dirección, nombre, apellidos, teléfono y contraseña. \n",
    " - **CITA**: día, fecha, modalidad de cita (domicilio, online, presencial), tipo (consulta general…), nº chip mascota, DNI, identificador propio? \n",
    " - **MASCOTA**: nº chip, nombre, edad, sexo, especie, vacunas, enfermedades previas, cirugías por las que ha pasado e informes de la mascota. (documentos)\n",
    " - **PRODUCTO**:  nombre, imagen, marca, descripción, ficha técnica, precio, cantidad, identificador propio, tipo producto. \n",
    " - **INVENTARIO**: Contiene una colección de productos. Atributos (array productos) – eso se puede hacer? Igual sería, la clínica consulta productos?y modifica su info \n",
    " - **ALERTA**: producto asociado \n",
    "- **RECORDATORIO**: Fecha inicio, periodicidad, nº chip mascota, motivo recordatorio, método envio alerta. Identificador propio "
   ]
  },
  {
   "cell_type": "code",
   "execution_count": null,
   "metadata": {},
   "outputs": [],
   "source": []
  }
 ],
 "metadata": {
  "kernelspec": {
   "display_name": "Python 3 (ipykernel)",
   "language": "python",
   "name": "python3"
  },
  "language_info": {
   "codemirror_mode": {
    "name": "ipython",
    "version": 3
   },
   "file_extension": ".py",
   "mimetype": "text/x-python",
   "name": "python",
   "nbconvert_exporter": "python",
   "pygments_lexer": "ipython3",
   "version": "3.11.3"
  },
  "vscode": {
   "interpreter": {
    "hash": "8a13e0cb9b320cf6cdcad3ae5d9b3afe539c62bd547e164bc97153987ad49ad5"
   }
  }
 },
 "nbformat": 4,
 "nbformat_minor": 2
}
