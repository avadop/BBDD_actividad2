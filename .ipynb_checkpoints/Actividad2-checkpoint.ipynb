{
 "cells": [
  {
   "cell_type": "markdown",
   "metadata": {},
   "source": [
    "   # ACTIVIDAD 2  - BASE DE DATOS (02MASW)\n",
    "\n",
    "&nbsp;\n",
    "\n",
    "&nbsp;\n",
    "\n",
    "&nbsp;\n",
    "\n",
    "&nbsp;\n",
    "\n",
    "&nbsp;\n",
    "![image](https://upload.wikimedia.org/wikipedia/commons/f/f8/Logo_VIU.png)\n",
    "&nbsp;\n",
    "\n",
    "&nbsp;\n",
    "\n",
    "&nbsp;\n",
    "\n",
    "&nbsp;\n",
    "\n",
    "&nbsp;\n",
    "\n",
    "&nbsp;\n",
    "\n",
    "\n",
    "Andrea del Vado Puell\n",
    "\n",
    "Pablo Vázquez Fernández\n",
    "\n",
    "Joaquín Ángel Tejero Cañero\n",
    "\n",
    "&nbsp;\n",
    "\n",
    "&nbsp;\n",
    "\n",
    "&nbsp;\n"
   ]
  },
  {
   "cell_type": "markdown",
   "metadata": {},
   "source": [
    "## Índice\n",
    "1. [Introducción](##Introducción)\n",
    "2. [Necesidades y requisitos del usuario](##Necesidades-y-requisitos-del-usuario)\n",
    "3. [Diseño de la base de datos](#Diseño-de-la-base-de-datos)\n"
   ]
  },
  {
   "cell_type": "markdown",
   "metadata": {},
   "source": [
    "## Introducción\n",
    "Durante la presente actividad para la asignatura de  *Bases de Datos Web* vamos a profundizar en el tema del diseño de una base de datos para nuestra aplicaicón. \n",
    "\n",
    "Para realizar esto, será necesario entender correctamente los requisitos y/o funcionalidades que se desean llevar a cabo para su correcto desarrollo. Deberemos aprender a identificar y plasmar diferentes tipos de diseños. Por una lado, tendremos un diseño conceptual donde se idenfican aquellas entidades, relaciones y atributos que van a intervenir en la aplicación. Seguido, estará un diseño lógico a modo de paso intermedio y del que se parte de los resultados obtenidos en el diseño conceptual anterior y cuyas salidas servirán para el siguiente de los diseños. El último será un diseño físico o relacional y que nos va a servir para la creación real de nuestra base de datos.\n",
    "\n",
    "Una vez que tenemos todos los diseños modelados, podremos pasar al punto del despliegue en un entorno lo más real posible e iremos comprobando si, efectivamente, lo desarrollado hasta el momento funciona de manera correcta.\n",
    "\n",
    "Para terminar, una vez que dispongamos de la base de datos creada, se puede proceder con la inserción de datos y la realización de consultas que corroborarán que todo lo realizado funciona de forma exitosa.\n",
    "\n",
    "**Descripcion de la empresa (cliente)**: Se trata de una clínica veterinaria dedicada al cuidado de los animales domésticos y ofrece servicios relacionados como consulta general, vacunación, pruebas diagnósticas, cirugía, peluquería canina o atención a domicilio. Además, lleva la agenda de las citas de las diferentes mascotas, así como los datos de los clientes. A su vez, también tiene la posibilidad de venta de diferentes tipos de comida y de accesorios.   \n"
   ]
  },
  {
   "cell_type": "markdown",
   "metadata": {},
   "source": [
    "\n",
    "## Necesidades y requisitos del usuario\n",
    " [*por añadir los requisitos*]"
   ]
  },
  {
   "cell_type": "markdown",
   "metadata": {},
   "source": [
    "\n",
    "\n",
    "## Diseño de la base de datos\n",
    "### Diseño conceptual\n",
    "#### 1 Identificar las entidades\n",
    "Las entidades que hemos identificado tras repasar los requisitos descritos anteriormente son las siguientes:\n",
    " - **USUARIO:** Puede ser **CLINICA** o **CLIENTE**. El usuario navegará por la aplicación, dependiendo del tipo que sea tendrá unas restricciones y valores asociados u otros.\n",
    " - **CITA:** La cita es la entidad que recoge la información de la visita a la clínica, llevando asociada la mascota que va a ir y su dueño (el cliente). Ya sea cliente o clínica, podrán pedir citas.\n",
    " - **MASCOTA:** Las mascotas que tienen los diferentes clientes.\n",
    " - **PRODUCTO:** Productos que tiene la clínica, desde productos médicos hasta accesorios o comida. Los clientes sólo podrán acceder a estos últimos. \n",
    " - **ALERTA:** Un producto puede emitir una alerta cuando se encuentre con pocas cantidades disponibles.\n",
    " - **RECORDATORIO:** La clinica puede programar recordatorios asociados a las mascotas para recordar a sus dueños de futuras visitas.\n",
    " \n",
    "#### 2.  Identificar las relaciones \n",
    "Las relaciones que hemos determinado que existen entre las diferentes entidadades son: \n",
    " - **tiene**: Relacion entre CLIENTE y MASCOTA. Un cliente tiene una o varias mascotas y una mascota solo puede ser de un único cliente.\n",
    " - **gestiona**: Relación entre USUARIO y CITA. Un usuario gestiona varias o ninguna cita, una cita es gestionada por un único usuario.\n",
    " - **programa**: Relación entre CLINICA y RECORDATORIO. La clinica programa varios o ningún recordatorio. Un recordatorio es programado por una única clínica.\n",
    " - **emite**: Relación entre PRODUCTO y ALERTA. Un producto emite una única alerta. Una alerta puede ser emitida por varios productos.\n",
    " - **compra**: Relación entre CLIENTE y PRODUCTO. Un cliente compra varios o ningun producto. Un producto puede ser comprado por varios o ningún cliente.\n",
    " \n",
    "#### 3. Idenficiar los atributos\n",
    "A continuación quedan listados los atributos para cada entidad.\n",
    " - **CLINICA**: id_clinica. \n",
    " - **CLIENTE**: DNI, correo_electronico, direccion, nombre, apellidos, telefono, contrasenya. \n",
    " - **CITA**: día, fecha, modalidad_cita (domicilio, online o presencial), tipo (consulta general, vacunación, peluquería o cirugía), identificador recordatorio.\n",
    " - **MASCOTA**: num_chip, nombre, edad, sexo, especie, vacunas, informes_de_mascota (documentos), historial_clinico.\n",
    " - **PRODUCTO**:  nombre, imagen, marca, descripcion, ficha_tecnica, precio, cantidad_disponible, id_producto, tipo_de_producto. \n",
    " - **ALERTA**: mensaje, cantidad_disponible, id_alerta.\n",
    " - **RECORDATORIO**: fecha_inicio, periodicidad, motivo_recordatorio, metodo_envio, id_recordatorio. \n",
    "\n",
    "#### 4. Determinar los dominios de los atributos\n",
    "\n",
    "\n",
    " - **tipo_de_cita**: ['Consulta_general, 'Vacunacion', 'Peluqueria', 'Cirugia']\n",
    "\n",
    " - **modalidad_de_cita:**['Presencial, 'A:domicilio', 'Online']\n",
    "\n",
    " - **tipo_producto:**['Accesorios', 'Comida', 'Medicamento', 'Vacuna', 'Productos_de_peluqueria']\n",
    "\n",
    " - **metodo_envio:**['SMS', correo_electronico]\n",
    "\n",
    "#### 5.  Determinar los identificadores\n",
    "Cada entidad tiene asociado un identificador único:\n",
    " - **CLINICA**: id_clnica \n",
    " - **CLIENTE**: DNI\n",
    " - **CITA**: id_recordatorio\n",
    " - **MASCOTA**: num_chip\n",
    " - **PRODUCTO**: id_producto\n",
    " - **ALERTA**: id_alerta\n",
    " - **RECORDATORIO**: id_recordatorio\n",
    "\n",
    "#### 6. Esquema conceptual (diagrama entidad-relación)\n",
    "\n",
    "### Diseño lógico\n",
    "\n"
   ]
  },
  {
   "cell_type": "code",
   "execution_count": null,
   "metadata": {},
   "outputs": [],
   "source": []
  }
 ],
 "metadata": {
  "kernelspec": {
   "display_name": "Python 3 (ipykernel)",
   "language": "python",
   "name": "python3"
  },
  "language_info": {
   "codemirror_mode": {
    "name": "ipython",
    "version": 3
   },
   "file_extension": ".py",
   "mimetype": "text/x-python",
   "name": "python",
   "nbconvert_exporter": "python",
   "pygments_lexer": "ipython3",
   "version": "3.11.3"
  },
  "vscode": {
   "interpreter": {
    "hash": "8a13e0cb9b320cf6cdcad3ae5d9b3afe539c62bd547e164bc97153987ad49ad5"
   }
  }
 },
 "nbformat": 4,
 "nbformat_minor": 2
}
